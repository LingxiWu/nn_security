{
 "cells": [
  {
   "cell_type": "code",
   "execution_count": 38,
   "metadata": {},
   "outputs": [
    {
     "name": "stdout",
     "output_type": "stream",
     "text": [
      "[(0, 0.0002155270208237246), (100000000, 0.00019950394353330128), (300000000, 8.672031263094511e-05), (1200000000, 8.312506545534576e-05), (3100000000, 7.805463473302845e-05), (3000000000, 7.750422012177379e-05), (200000000, 7.295288495284035e-05), (1100000000, 6.427781691869313e-05), (4400000000, 6.384329537853114e-05), (400000000, 6.298880820242161e-05), (500000000, 6.288434250715498e-05), (600000000, 6.112917313972546e-05), (3200000000, 6.0985668459294414e-05), (1400000000, 5.747902322742395e-05), (2800000000, 5.719481549504949e-05), (2200000000, 5.61720465500201e-05), (2400000000, 5.5171045742189656e-05), (700000000, 5.48129458107657e-05), (2600000000, 5.455646363694299e-05), (1600000000, 5.049707535662606e-05), (6200000000, 5.03975360633338e-05), (4000000000, 4.998936524175232e-05), (3600000000, 4.9620734579577134e-05), (4500000000, 4.947546269468348e-05), (2000000000, 4.8695984956744895e-05), (5000000000, 4.7772746312931216e-05), (4200000000, 4.747789259973077e-05), (900000000, 4.732348112742277e-05), (1800000000, 4.520326202827074e-05), (800000000, 4.513692104668387e-05)]\n",
      "[4, 8, 7.5, 3.5, 8.5, 2, 3]\n"
     ]
    }
   ],
   "source": [
    "from pandas import * # file io\n",
    "import math\n",
    "from matplotlib import pyplot as plt\n",
    "import csv\n",
    "\n",
    "NUM_CURRENT = 7\n",
    "\n",
    "# 1. \n",
    "# substitute 4.5's marker freq with 1.3 ghz instead of 1.2 ghz which is the same as 4uA\n",
    "marker_list = [[0.5, 333000000],\n",
    "              [1,534000000],\n",
    "              [1.5,610000000],\n",
    "              [2,800000000],\n",
    "              [2.5,834000000],\n",
    "              [3,1000000000],\n",
    "              [3.5,1100000000],\n",
    "              [4,1200000000],\n",
    "              [4.5,1300000000],\n",
    "              [5,2550000000],\n",
    "              [5.5,2700000000],\n",
    "              [6,2700000000],\n",
    "              [6.5,2810000000],\n",
    "              [7,2950000000],\n",
    "              [7.5,3000000000],\n",
    "              [8,3100000000],\n",
    "              [8.5,3200000000]]\n",
    "\n",
    "# 2.\n",
    "# victim_fft = \"7R_sweep_0p5/7R_FS_1u_4u_8u_FFT.csv\"\n",
    "# victim_fft = \"7R_sweep_0p5/7R_FS_1_8p5_3_6_2p5_7_4_COMBO_FFT.csv\"\n",
    "victim_fft = \"7R_sweep_0p5/7R_FS_2u_8u_4u_7u_6u_2u_2p2u_FFT.csv\"\n",
    "\n",
    "victim_tup_list = []\n",
    "with open(victim_fft, \"r\") as fft_file:\n",
    "    csv_reader = csv.reader(fft_file, delimiter=',')\n",
    "    next(csv_reader) # skip header row\n",
    "    for lines in csv_reader: \n",
    "        tup = (round(float(lines[0])),math.sqrt(float(lines[1])**2 + float(lines[2])**2))\n",
    "        victim_tup_list.append(tup)\n",
    "\n",
    "victim_tup_list.sort(key = lambda x: x[1], reverse = True)\n",
    "print(victim_tup_list[:30])\n",
    "\n",
    "# 3.\n",
    "rank_list = [] # [[freq0, rank0],[],[],...]\n",
    "for i in range(0, len(marker_list)):\n",
    "    for j in range(0, len(victim_tup_list)):\n",
    "        if marker_list[i][1] == victim_tup_list[j][0]:\n",
    "            tup = (marker_list[i][1],j)\n",
    "            rank_list.append(tup)\n",
    "\n",
    "# 4.  \n",
    "rank_list.sort(key = lambda x: x[1])\n",
    "# print(rank_list)\n",
    "\n",
    "# 5. \n",
    "current_list = []\n",
    "for i in range(0, NUM_CURRENT):\n",
    "    top_freq = rank_list[i][0]\n",
    "    for j in range(0, len(marker_list)):\n",
    "        if top_freq == marker_list[j][1]:\n",
    "            current_list.append(marker_list[j][0])\n",
    "print(current_list)"
   ]
  },
  {
   "cell_type": "code",
   "execution_count": null,
   "metadata": {},
   "outputs": [],
   "source": []
  }
 ],
 "metadata": {
  "kernelspec": {
   "display_name": "Python 3",
   "language": "python",
   "name": "python3"
  },
  "language_info": {
   "codemirror_mode": {
    "name": "ipython",
    "version": 3
   },
   "file_extension": ".py",
   "mimetype": "text/x-python",
   "name": "python",
   "nbconvert_exporter": "python",
   "pygments_lexer": "ipython3",
   "version": "3.8.5"
  }
 },
 "nbformat": 4,
 "nbformat_minor": 4
}
