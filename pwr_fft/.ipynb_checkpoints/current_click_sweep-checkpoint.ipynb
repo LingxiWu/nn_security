{
 "cells": [
  {
   "cell_type": "code",
   "execution_count": 5,
   "metadata": {},
   "outputs": [
    {
     "ename": "FileNotFoundError",
     "evalue": "[Errno 2] No such file or directory: 'min_step_sweep/7R_FS_7p74n_FFT.csv7R_FS_7p92n_FFT.csv'",
     "output_type": "error",
     "traceback": [
      "\u001b[0;31m---------------------------------------------------------------------------\u001b[0m",
      "\u001b[0;31mFileNotFoundError\u001b[0m                         Traceback (most recent call last)",
      "\u001b[0;32m<ipython-input-5-7035686ff0f2>\u001b[0m in \u001b[0;36m<module>\u001b[0;34m\u001b[0m\n\u001b[1;32m     34\u001b[0m \u001b[0;32mfor\u001b[0m \u001b[0mi\u001b[0m \u001b[0;32min\u001b[0m \u001b[0mrange\u001b[0m\u001b[0;34m(\u001b[0m\u001b[0mlen\u001b[0m\u001b[0;34m(\u001b[0m\u001b[0mfiles\u001b[0m\u001b[0;34m)\u001b[0m\u001b[0;34m)\u001b[0m\u001b[0;34m:\u001b[0m\u001b[0;34m\u001b[0m\u001b[0;34m\u001b[0m\u001b[0m\n\u001b[1;32m     35\u001b[0m     \u001b[0mtup_lst\u001b[0m \u001b[0;34m=\u001b[0m \u001b[0;34m[\u001b[0m\u001b[0;34m]\u001b[0m\u001b[0;34m\u001b[0m\u001b[0;34m\u001b[0m\u001b[0m\n\u001b[0;32m---> 36\u001b[0;31m     \u001b[0;32mwith\u001b[0m \u001b[0mopen\u001b[0m\u001b[0;34m(\u001b[0m\u001b[0;34m\"min_step_sweep/\"\u001b[0m\u001b[0;34m+\u001b[0m\u001b[0mfiles\u001b[0m\u001b[0;34m[\u001b[0m\u001b[0mi\u001b[0m\u001b[0;34m]\u001b[0m\u001b[0;34m,\u001b[0m \u001b[0;34m\"r\"\u001b[0m\u001b[0;34m)\u001b[0m \u001b[0;32mas\u001b[0m \u001b[0mfft_file\u001b[0m\u001b[0;34m:\u001b[0m\u001b[0;34m\u001b[0m\u001b[0;34m\u001b[0m\u001b[0m\n\u001b[0m\u001b[1;32m     37\u001b[0m         \u001b[0mcsv_reader\u001b[0m \u001b[0;34m=\u001b[0m \u001b[0mcsv\u001b[0m\u001b[0;34m.\u001b[0m\u001b[0mreader\u001b[0m\u001b[0;34m(\u001b[0m\u001b[0mfft_file\u001b[0m\u001b[0;34m,\u001b[0m \u001b[0mdelimiter\u001b[0m\u001b[0;34m=\u001b[0m\u001b[0;34m','\u001b[0m\u001b[0;34m)\u001b[0m\u001b[0;34m\u001b[0m\u001b[0;34m\u001b[0m\u001b[0m\n\u001b[1;32m     38\u001b[0m         \u001b[0mnext\u001b[0m\u001b[0;34m(\u001b[0m\u001b[0mcsv_reader\u001b[0m\u001b[0;34m)\u001b[0m \u001b[0;31m# skip header row\u001b[0m\u001b[0;34m\u001b[0m\u001b[0;34m\u001b[0m\u001b[0m\n",
      "\u001b[0;31mFileNotFoundError\u001b[0m: [Errno 2] No such file or directory: 'min_step_sweep/7R_FS_7p74n_FFT.csv7R_FS_7p92n_FFT.csv'"
     ]
    }
   ],
   "source": [
    "# this experiment analyze the granularity of the FFT traces\n",
    "# we sweep FFT traces from the min_current (min_cond), to max_current (max_cond)\n",
    "# of a single cell. This is to see if FFT is sensitive enough to capture the small variant of the current?\n",
    "\n",
    "\n",
    "from pandas import * # file io\n",
    "import math\n",
    "from matplotlib import pyplot as plt\n",
    "import csv\n",
    "\n",
    "files = [\"7R_FS_1p54n_FFT.csv\",\"7R_FS_1p72n_FFT.csv\",\"7R_FS_1p9n_FFT.csv\",\"7R_FS_2p09n_FFT.csv\",\n",
    "         \"7R_FS_2p27n_FFT.csv\",\"7R_FS_2p45n_FFT.csv\",\"7R_FS_2p63n_FFT.csv\",\"7R_FS_2p82n_FFT.csv\",\n",
    "         \"7R_FS_3n_FFT.csv\", \"7R_FS_3p18n_FFT.csv\",\n",
    "        \n",
    "        \"7R_FS_3p36n_FFT.csv\",\"7R_FS_3p54n_FFT.csv\",\"7R_FS_3p73n_FFT.csv\",\"7R_FS_3p91n_FFT.csv\",\n",
    "        \"7R_FS_4p09n_FFT.csv\",\"7R_FS_4p27n_FFT.csv\",\"7R_FS_4p46n_FFT.csv\",\"7R_FS_4p82n_FFT.csv\",\n",
    "        \"7R_FS_5n_FFT.csv\",\"7R_FS_5p19n_FFT.csv\",\n",
    "        \n",
    "        \"7R_FS_5p37n_FFT.csv\",\"7R_FS_5p55n_FFT.csv\",\"7R_FS_5p73n_FFT.csv\",\"7R_FS_5p92n_FFT.csv\",\n",
    "        \"7R_FS_6p1n_FFT.csv\",\"7R_FS_6p28n_FFT.csv\",\"7R_FS_6p46n_FFT.csv\",\"7R_FS_6p64n_FFT.csv\",\n",
    "        \"7R_FS_6p83n_FFT.csv\",\"7R_FS_7p01n_FFT.csv\",\n",
    "        \n",
    "        \"7R_FS_7p19n_FFT.csv\",\"7R_FS_7p38n_FFT.csv\",\"7R_FS_7p56n_FFT.csv\",\"7R_FS_7p74n_FFT.csv\",\n",
    "        \"7R_FS_7p92n_FFT.csv\",\"7R_FS_8p1n_FFT.csv\",\"7R_FS_8p29n_FFT.csv\",\"7R_FS_8p47n_FFT.csv\",\n",
    "        \"7R_FS_8p65n_FFT.csv\",\"7R_FS_8p83n_FFT.csv\",\n",
    "        \n",
    "        \"7R_FS_9p02n_FFT.csv\",\"7R_FS_9p2n_FFT.csv\",\"7R_FS_9p38n_FFT.csv\",\"7R_FS_9p56n_FFT.csv\",\n",
    "        \"7R_FS_9p75n_FFT.csv\",\"7R_FS_9p93n_FFT.csv\",\"7R_FS_10p1n_FFT.csv\",\"7R_FS_10p3n_FFT.csv\",\n",
    "        \"7R_FS_10p5n_FFT.csv\",\"7R_FS_10p7n_FFT.csv\",\n",
    "        \n",
    "        \"7R_FS_10p8n_FFT.csv\",\"7R_FS_11n_FFT.csv\",\"7R_FS_11p2n_FFT.csv\"]\n",
    "\n",
    "lib_freq_mag = []\n",
    "for i in range(len(files)):\n",
    "    tup_lst = []\n",
    "    with open(\"min_step_sweep/\"+files[i], \"r\") as fft_file:\n",
    "        csv_reader = csv.reader(fft_file, delimiter=',')\n",
    "        next(csv_reader) # skip header row\n",
    "        for lines in csv_reader: \n",
    "            tup = (lines[0],math.sqrt(float(lines[1])**2 + float(lines[2])**2))\n",
    "            tup_lst.append(tup)\n",
    "    lib_freq_mag.append(tup_lst) # [(freq0, mag_0), (freq1, mag1),...]\n",
    "\n",
    "# sort by magnitude    \n",
    "for i in range(len(files)):\n",
    "    lib_freq_mag[i].sort(key = lambda x: x[1], reverse = True)\n",
    "\n",
    "print(lib_freq_mag[0][:20])\n",
    "print(\" \")\n",
    "print(lib_freq_mag[53][:20])"
   ]
  },
  {
   "cell_type": "code",
   "execution_count": null,
   "metadata": {},
   "outputs": [],
   "source": []
  }
 ],
 "metadata": {
  "kernelspec": {
   "display_name": "Python 3",
   "language": "python",
   "name": "python3"
  },
  "language_info": {
   "codemirror_mode": {
    "name": "ipython",
    "version": 3
   },
   "file_extension": ".py",
   "mimetype": "text/x-python",
   "name": "python",
   "nbconvert_exporter": "python",
   "pygments_lexer": "ipython3",
   "version": "3.8.5"
  }
 },
 "nbformat": 4,
 "nbformat_minor": 4
}
