{
 "cells": [
  {
   "cell_type": "code",
   "execution_count": 6,
   "metadata": {},
   "outputs": [
    {
     "name": "stdout",
     "output_type": "stream",
     "text": [
      "[('800000000', 2.940085032783916e-05), ('200000000', 2.9032445642763203e-05), ('1000000000', 2.86574597618142e-05)]\n",
      "[('0', 5.212833412352546e-05), ('1400000000', 3.821481307406147e-05), ('599999999.9999999', 3.622497283448015e-05)]\n",
      "[('0', 6.129320132208918e-05), ('99999999.99999999', 3.631027934653844e-05), ('799999999.9999999', 3.512373161492101e-05)]\n",
      "[('799999999.9999999', 7.841176765109766e-05), ('0', 6.644733364299922e-05), ('699999999.9999999', 5.4368641888859975e-05)]\n",
      "[('0', 7.461178886883024e-05), ('99999999.99999999', 4.9219025921225145e-05), ('833399999.9999999', 4.5967769494026646e-05)]\n",
      "[('999999999.9999999', 8.989416692196139e-05), ('0', 7.636590929835435e-05), ('99999999.99999999', 6.11555621952876e-05)]\n",
      "[('0', 8.23944743196386e-05), ('99999999.99999999', 6.172468651244106e-05), ('200000000', 4.155690128824856e-05)]\n",
      "[('0', 8.640007172220946e-05), ('99999999.99999999', 6.991280743106083e-05), ('1200000000', 6.63399742710534e-05)]\n",
      "[('1200000000', 9.32824813793498e-05), ('0', 8.752015689392639e-05), ('99999999.99999999', 7.510817856867666e-05)]\n",
      "[('0', 9.291149823345848e-05), ('99999999.99999999', 7.532120839237293e-05), ('200000000', 4.504054030290365e-05)]\n",
      "[('0', 9.487958364176298e-05), ('99999999.99999999', 8.09044942655055e-05), ('1400000000', 5.195142589492149e-05)]\n",
      "[('0', 9.592248080981418e-05), ('99999999.99999999', 8.575099642024396e-05), ('1400000000', 7.423848478343455e-05)]\n",
      "[('0', 0.0001007602467945244), ('99999999.99999999', 8.294263519455014e-05), ('2800000000', 5.777210520571434e-05)]\n",
      "[('0', 0.0001035869781914601), ('99999999.99999999', 8.886999636604466e-05), ('2950000000', 7.5578862340405e-05)]\n",
      "[('0', 0.000105785012029865), ('99999999.99999999', 9.252092983213928e-05), ('3100000000', 6.281396572350306e-05)]\n",
      "[('0', 0.0001074054160078302), ('99999999.99999999', 9.664927989166699e-05), ('3100000000', 8.854708804431362e-05)]\n",
      "[('0', 0.0001069324041646455), ('99999999.99999999', 9.777531104713773e-05), ('3100000000', 6.809025240186764e-05)]\n"
     ]
    }
   ],
   "source": [
    "# this is to extract top x frequency bins and magnitude from FFT sweep to build a fitting curve.\n",
    "\n",
    "from pandas import * # file io\n",
    "import math\n",
    "from matplotlib import pyplot as plt\n",
    "import csv\n",
    "from os import listdir\n",
    "from os.path import isfile, join\n",
    "\n",
    "# list all fft files\n",
    "files = ['7R_FS_0u_FFT.csv', '7R_FS_0p5u_FFT.csv'\n",
    "         '7R_FS_1u_FFT.csv', '7R_FS_1p5u_FFT.csv', \n",
    "         '7R_FS_2u_FFT.csv', '7R_FS_2p5u_FFT.csv',  \n",
    "         '7R_FS_3u_FFT.csv', '7R_FS_3p5u_FFT.csv', \n",
    "         '7R_FS_4u_FFT.csv', '7R_FS_4p5u_FFT.csv', \n",
    "         '7R_FS_5u_FFT.csv', '7R_FS_5p5u_FFT.csv', \n",
    "         '7R_FS_6u_FFT.csv', '7R_FS_6p5u_FFT.csv', \n",
    "         '7R_FS_7u_FFT.csv', '7R_FS_7p5u_FFT.csv', \n",
    "         '7R_FS_8u_FFT.csv', '7R_FS_8p5u_FFT.csv']\n",
    "\n",
    "lib_freq_mag = []\n",
    "for i in range(len(files)):\n",
    "    tup_lst = []\n",
    "    with open(\"7R_sweep_0p5/\"+files[i], \"r\") as fft_file:\n",
    "        csv_reader = csv.reader(fft_file, delimiter=',')\n",
    "        next(csv_reader) # skip header row\n",
    "        for lines in csv_reader: \n",
    "            tup = (lines[0],math.sqrt(float(lines[1])**2 + float(lines[2])**2))\n",
    "            tup_lst.append(tup)\n",
    "    lib_freq_mag.append(tup_lst)\n",
    "    \n",
    "# sort by magnitude    \n",
    "for i in range(len(files)):\n",
    "    lib_freq_mag[i].sort(key = lambda x: x[1], reverse = True)\n",
    "    print(lib_freq_mag[i][:3])\n",
    "    \n",
    "    \n",
    "f = open(\"fft_0p5u_sweep_top_15.csv\", \"a\")\n",
    "increment = 0.5\n",
    "start_cur = 0\n",
    "TOPX = 15 # top 10 tall bars\n",
    "for i in range(len(files)):\n",
    "    line = str(start_cur)\n",
    "    for j in range(0, TOPX):\n",
    "        line += ','\n",
    "        line += str(lib_freq_mag[i][j][0]) \n",
    "        line += ','\n",
    "        line += str(lib_freq_mag[i][j][1])\n",
    "    f.write(line)\n",
    "    f.write('\\n')\n",
    "    line = ''\n",
    "    start_cur += increment\n",
    "f.close()\n",
    "\n",
    "\n"
   ]
  },
  {
   "cell_type": "code",
   "execution_count": null,
   "metadata": {},
   "outputs": [],
   "source": []
  }
 ],
 "metadata": {
  "kernelspec": {
   "display_name": "Python 3",
   "language": "python",
   "name": "python3"
  },
  "language_info": {
   "codemirror_mode": {
    "name": "ipython",
    "version": 3
   },
   "file_extension": ".py",
   "mimetype": "text/x-python",
   "name": "python",
   "nbconvert_exporter": "python",
   "pygments_lexer": "ipython3",
   "version": "3.8.5"
  }
 },
 "nbformat": 4,
 "nbformat_minor": 4
}
