{
 "cells": [
  {
   "cell_type": "code",
   "execution_count": 32,
   "metadata": {},
   "outputs": [
    {
     "data": {
      "image/png": "[encoded data removed]",
      "text/plain": [
       "<Figure size 432x288 with 1 Axes>"
      ]
     },
     "metadata": {
      "needs_background": "light"
     },
     "output_type": "display_data"
    },
    {
     "name": "stdout",
     "output_type": "stream",
     "text": [
      "[       0.           499999.75000012   999999.50000025 ...\n",
      " -1499999.25000037  -999999.50000025  -499999.75000012]\n",
      "[5.72824355e+01-0.j         4.54066227e-02-0.00830187j\n",
      " 3.69877387e-02-0.00575032j ... 3.72008021e-02-0.0007383j\n",
      " 3.69877387e-02+0.00575032j 4.54066227e-02+0.00830187j]\n",
      "2000001\n"
     ]
    }
   ],
   "source": [
    "from pandas import *\n",
    "from matplotlib import pyplot as plt\n",
    "from scipy.fftpack import fft, fftfreq, rfft, rfftfreq\n",
    "import numpy as np\n",
    "\n",
    "# read pwr trace file\n",
    "#data = read_csv(\"1R_FS_8u_pwr.csv\")\n",
    "data = read_csv(\"1R_FS_0p5u_pwr.csv\")\n",
    "\n",
    "# read columns into list\n",
    "#time = data[\"time\"]\n",
    "#pwr = data[\"pwr\"]\n",
    "\n",
    "time = data[\"/V3/MINUS (Idc=5e-07) X\"] #idc=7.5e-06\n",
    "pwr = data[\"/V3/MINUS (Idc=5e-07) Y\"]\n",
    "\n",
    "SAMPLE_RATE = 1e12\n",
    "N = len(pwr)\n",
    "\n",
    "x = np.array(pwr)\n",
    "\n",
    "#plt.plot(time, pwr)\n",
    "#plt.xlim(0.00000004, 0.00000006)\n",
    "\n",
    "# FFT transfer\n",
    "yf = fft(x)\n",
    "xf = fftfreq(N, 1/SAMPLE_RATE)\n",
    "\n",
    "plt.plot(xf, np.abs(yf))\n",
    "plt.xlim(0, 8e9)\n",
    "\n",
    "plt.show()\n",
    "\n",
    "print(xf)\n",
    "print(yf)\n",
    "\n",
    "print(N)\n",
    "\n",
    "# file i/o\n",
    "with open('xf_file.txt', 'w') as filehandle:\n",
    "    for listitem in xf:\n",
    "        filehandle.write('%s\\n' % listitem)\n",
    "        \n",
    "with open('yf_file.txt', 'w') as filehandle:\n",
    "    for listitem in yf:\n",
    "        filehandle.write('%s\\n' % listitem)\n",
    "        \n",
    "#time_step = 0.000000000001\n",
    "#time_vec = np.arange(0.00000004, 0.00000005, time_step)"
   ]
  },
  {
   "cell_type": "code",
   "execution_count": null,
   "metadata": {},
   "outputs": [],
   "source": []
  },
  {
   "cell_type": "code",
   "execution_count": null,
   "metadata": {},
   "outputs": [],
   "source": []
  }
 ],
 "metadata": {
  "kernelspec": {
   "display_name": "Python 3",
   "language": "python",
   "name": "python3"
  },
  "language_info": {
   "codemirror_mode": {
    "name": "ipython",
    "version": 3
   },
   "file_extension": ".py",
   "mimetype": "text/x-python",
   "name": "python",
   "nbconvert_exporter": "python",
   "pygments_lexer": "ipython3",
   "version": "3.8.5"
  }
 },
 "nbformat": 4,
 "nbformat_minor": 4
}
