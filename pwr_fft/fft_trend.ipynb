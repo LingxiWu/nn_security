{
 "cells": [
  {
   "cell_type": "code",
   "execution_count": 3,
   "metadata": {},
   "outputs": [
    {
     "name": "stdout",
     "output_type": "stream",
     "text": [
      "[('0', 1.419561821753175e-05), ('5200000000', 4.321363517669116e-06), ('5400000000', 4.319897643214042e-06)]\n",
      "[('0', 2.898405101281407e-05), ('799999999.9999999', 2.4667830326647455e-05), ('233400000', 2.0103896230466435e-05)]\n",
      "[('0', 3.889919706395623e-05), ('433500000', 3.0933314309142e-05), ('100000000', 2.918138551866102e-05)]\n",
      "[('0', 4.804090695318447e-05), ('100000000', 3.712736762477556e-05), ('610000000', 2.467092322479841e-05)]\n",
      "[('800000000', 5.854636499159776e-05), ('700000000', 5.4074127767089454e-05), ('0', 5.285793691402625e-05)]\n",
      "[('0', 6.106544621365873e-05), ('100000000', 4.9991944139134525e-05), ('833500000', 4.569267405147324e-05)]\n",
      "[('1000000000', 6.775631516981107e-05), ('0', 6.265272471062442e-05), ('100000000', 6.199482202140189e-05)]\n",
      "[('0', 6.910274470644974e-05), ('100000000', 6.297008852814264e-05), ('1033500000', 3.8456153991968346e-05)]\n",
      "[('0', 7.260415124128246e-05), ('100000000', 7.103563259544734e-05), ('1100000000', 5.869789913194508e-05)]\n",
      "[('100000000', 7.588979844647437e-05), ('0', 7.352871494976868e-05), ('1200000000', 6.716046872691561e-05)]\n",
      "[('0', 7.957229840947862e-05), ('100000000', 7.645158970569682e-05), ('2550000000', 4.325742570710212e-05)]\n",
      "[('0', 8.255823912219704e-05), ('100000000', 8.240891394448186e-05), ('2700000000', 5.2802489556626344e-05)]\n",
      "[('100000000', 8.614018165573312e-05), ('0', 8.233743090269126e-05), ('2700000000', 5.340509360014044e-05)]\n",
      "[('0', 8.729189913250944e-05), ('100000000', 8.369733659012061e-05), ('2811500000', 4.8828069137896086e-05)]\n",
      "[('0', 8.97558328575212e-05), ('100000000', 8.862484439256583e-05), ('2950000000', 7.504539062272913e-05)]\n",
      "[('100000000', 9.385393156282479e-05), ('0', 9.273594423023209e-05), ('3000000000', 7.686648487905298e-05)]\n",
      "[('100000000', 9.709875019580359e-05), ('0', 9.319172069148664e-05), ('3100000000', 8.832250624181146e-05)]\n",
      "[('100000000', 9.88654896658904e-05), ('0', 9.30668303308149e-05), ('3200000000', 6.690145234936207e-05)]\n"
     ]
    }
   ],
   "source": [
    "# this is to extract top x frequency bins and magnitude from FFT sweep to build a fitting curve.\n",
    "\n",
    "from pandas import * # file io\n",
    "import math\n",
    "from matplotlib import pyplot as plt\n",
    "import csv\n",
    "from os import listdir\n",
    "from os.path import isfile, join\n",
    "\n",
    "# list all fft files\n",
    "dir = '1R/'\n",
    "files = ['1R_FS_0u_FFT.csv', '1R_FS_0p5u_FFT.csv',\n",
    "         '1R_FS_1u_FFT.csv', '1R_FS_1p5u_FFT.csv', \n",
    "         '1R_FS_2u_FFT.csv', '1R_FS_2p5u_FFT.csv',  \n",
    "         '1R_FS_3u_FFT.csv', '1R_FS_3p5u_FFT.csv', \n",
    "         '1R_FS_4u_FFT.csv', '1R_FS_4p5u_FFT.csv', \n",
    "         '1R_FS_5u_FFT.csv', '1R_FS_5p5u_FFT.csv', \n",
    "         '1R_FS_6u_FFT.csv', '1R_FS_6p5u_FFT.csv', \n",
    "         '1R_FS_7u_FFT.csv', '1R_FS_7p5u_FFT.csv', \n",
    "         '1R_FS_8u_FFT.csv', '1R_FS_8p5u_FFT.csv']\n",
    "\n",
    "lib_freq_mag = []\n",
    "for i in range(len(files)):\n",
    "    tup_lst = []\n",
    "    with open(dir+files[i], \"r\") as fft_file:\n",
    "        csv_reader = csv.reader(fft_file, delimiter=',')\n",
    "        next(csv_reader) # skip header row\n",
    "        for lines in csv_reader: \n",
    "            tup = (lines[0],math.sqrt(float(lines[1])**2 + float(lines[2])**2))\n",
    "            tup_lst.append(tup)\n",
    "    lib_freq_mag.append(tup_lst)\n",
    "    \n",
    "# sort by magnitude    \n",
    "for i in range(len(files)):\n",
    "    lib_freq_mag[i].sort(key = lambda x: x[1], reverse = True)\n",
    "    print(lib_freq_mag[i][:3])\n",
    "    \n",
    "    \n",
    "f = open(\"fft_0p5u_sweep_top_15.csv\", \"a\")\n",
    "increment = 0.5\n",
    "start_cur = 0\n",
    "TOPX = 15 # top 10 tall bars\n",
    "for i in range(len(files)):\n",
    "    line = str(start_cur)\n",
    "    for j in range(0, TOPX):\n",
    "        line += ','\n",
    "        line += str(lib_freq_mag[i][j][0]) \n",
    "        line += ','\n",
    "        line += str(lib_freq_mag[i][j][1])\n",
    "    f.write(line)\n",
    "    f.write('\\n')\n",
    "    line = ''\n",
    "    start_cur += increment\n",
    "f.close()\n",
    "\n",
    "\n"
   ]
  },
  {
   "cell_type": "code",
   "execution_count": null,
   "metadata": {},
   "outputs": [],
   "source": []
  }
 ],
 "metadata": {
  "kernelspec": {
   "display_name": "Python 3",
   "language": "python",
   "name": "python3"
  },
  "language_info": {
   "codemirror_mode": {
    "name": "ipython",
    "version": 3
   },
   "file_extension": ".py",
   "mimetype": "text/x-python",
   "name": "python",
   "nbconvert_exporter": "python",
   "pygments_lexer": "ipython3",
   "version": "3.8.5"
  }
 },
 "nbformat": 4,
 "nbformat_minor": 4
}
