{
 "cells": [
  {
   "cell_type": "code",
   "execution_count": 1,
   "metadata": {},
   "outputs": [
    {
     "name": "stdout",
     "output_type": "stream",
     "text": [
      "[('1200000000', 8.687607554055473e-05), ('0', 8.655733618482045e-05), ('99999999.99999999', 7.345752038357904e-05), ('3500000000', 5.8833868995878915e-05), ('3600000000', 5.350624165371541e-05), ('3400000000', 5.278985005462656e-05), ('1100000000', 5.0557741839056185e-05), ('2200000000', 4.4794836231052474e-05), ('1400000000', 4.3871254583892325e-05), ('200000000', 4.383486805429473e-05)]\n",
      "[('1200000000', 9.32824813793498e-05), ('0', 8.752015689392639e-05), ('99999999.99999999', 7.510817856867666e-05), ('399999999.9999999', 4.4656237930695214e-05), ('200000000', 4.317900026883567e-05), ('1400000000', 4.118321182748407e-05), ('799999999.9999999', 4.110386157875108e-05), ('1100000000', 4.1040640064264184e-05), ('999999999.9999999', 4.074235397088023e-05), ('1600000000', 3.9997342085845135e-05)]\n"
     ]
    }
   ],
   "source": [
    "# two traces with same spikes but begin at different time\n",
    "\n",
    "from pandas import * # file io\n",
    "import math\n",
    "from matplotlib import pyplot as plt\n",
    "import csv\n",
    "\n",
    "TOP = 50 # check the first TOP bins\n",
    "\n",
    "dirt = \"time_stamp/\"\n",
    "file1 = dirt+\"7R_FS_4p25u_FFT.csv\"\n",
    "file2 = dirt+\"7R_FS_4p5u_FFT.csv\"\n",
    "\n",
    "# 4.5 uA\n",
    "tup_lst_1 = []\n",
    "with open(file1, \"r\") as fft_file:\n",
    "    csv_reader = csv.reader(fft_file, delimiter=',')\n",
    "    next(csv_reader) # skip header row\n",
    "    for lines in csv_reader: \n",
    "        tup = (lines[0],math.sqrt(float(lines[1])**2 + float(lines[2])**2))\n",
    "        tup_lst_1.append(tup)\n",
    "\n",
    "tup_lst_1.sort(key = lambda x: x[1], reverse = True)\n",
    "\n",
    "print(tup_lst_1[:10])\n",
    "\n",
    "# 4.25 uA      \n",
    "tup_lst_2 = []\n",
    "with open(file2, \"r\") as fft_file:\n",
    "    csv_reader = csv.reader(fft_file, delimiter=',')\n",
    "    next(csv_reader) # skip header row\n",
    "    for lines in csv_reader: \n",
    "        tup = (lines[0],math.sqrt(float(lines[1])**2 + float(lines[2])**2))\n",
    "        tup_lst_2.append(tup)\n",
    "\n",
    "tup_lst_2.sort(key = lambda x: x[1], reverse = True)\n",
    "\n",
    "print(tup_lst_2[:10])\n",
    "\n",
    "# save TOP (freq, mag) to a csv file\n",
    "f = open(\"time_stamp_4p25u_4p5u.csv\", \"a\")\n",
    "f.write(\"freq_4p25u,mag_4p25u,freq_4p5u,mag_4p5u\\n\")\n",
    "line = ''\n",
    "for i in range(0, TOP):\n",
    "    line = str(tup_lst_1[i][0]) + ',' + str(tup_lst_1[i][1]) + ',' + str(tup_lst_2[i][0]) + ',' + str(tup_lst_2[i][1])\n",
    "    f.write(line)\n",
    "    f.write('\\n')\n",
    "    line = ''\n",
    "f.close()"
   ]
  },
  {
   "cell_type": "code",
   "execution_count": null,
   "metadata": {},
   "outputs": [],
   "source": []
  },
  {
   "cell_type": "code",
   "execution_count": null,
   "metadata": {},
   "outputs": [],
   "source": []
  }
 ],
 "metadata": {
  "kernelspec": {
   "display_name": "Python 3",
   "language": "python",
   "name": "python3"
  },
  "language_info": {
   "codemirror_mode": {
    "name": "ipython",
    "version": 3
   },
   "file_extension": ".py",
   "mimetype": "text/x-python",
   "name": "python",
   "nbconvert_exporter": "python",
   "pygments_lexer": "ipython3",
   "version": "3.8.5"
  }
 },
 "nbformat": 4,
 "nbformat_minor": 4
}
