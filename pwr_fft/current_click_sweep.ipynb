{
 "cells": [
  {
   "cell_type": "code",
   "execution_count": 8,
   "metadata": {},
   "outputs": [
    {
     "name": "stdout",
     "output_type": "stream",
     "text": [
      "[('799999999.9999999', 2.9363918278951793e-05), ('200000000', 2.9065833999895874e-05), ('999999999.9999999', 2.8653329440668e-05), ('1600000000', 2.8276316497909876e-05), ('399999999.9999999', 2.7793489221495505e-05), ('1800000000', 2.776481103692195e-05), ('1400000000', 2.7613418972274593e-05), ('1200000000', 2.690336904173218e-05), ('2000000000', 2.658654531071201e-05), ('599999999.9999999', 2.6479318491791017e-05), ('2200000000', 2.6034790409614016e-05), ('2800000000', 2.593836518777602e-05), ('2600000000', 2.5830572120150505e-05), ('2400000000', 2.5761007849148614e-05), ('3000000000', 2.5536062179885434e-05), ('3200000000', 2.5022749688193576e-05), ('3400000000', 2.442266916250426e-05), ('3600000000', 2.3809548548144454e-05), ('3800000000', 2.3189585321267357e-05), ('4000000000', 2.2845305188759256e-05)]\n",
      " \n",
      "[('799999999.9999999', 2.9323424863338643e-05), ('200000000', 2.910218305706967e-05), ('999999999.9999999', 2.8647114212338695e-05), ('1600000000', 2.8262903191023716e-05), ('399999999.9999999', 2.8102579882658455e-05), ('1800000000', 2.778964887227172e-05), ('1400000000', 2.7698367213404976e-05), ('1200000000', 2.687837368164664e-05), ('2000000000', 2.6582440323469212e-05), ('599999999.9999999', 2.6531538638499194e-05), ('2200000000', 2.608530126028152e-05), ('2800000000', 2.5930742546133763e-05), ('2600000000', 2.5832721219819265e-05), ('2400000000', 2.5785880621366726e-05), ('3000000000', 2.5530511862558515e-05), ('3200000000', 2.502167329746395e-05), ('0', 2.48171268642562e-05), ('3400000000', 2.4462903993804757e-05), ('3600000000', 2.3795971710038624e-05), ('3800000000', 2.3183095267722064e-05)]\n"
     ]
    }
   ],
   "source": [
    "# this experiment analyze the granularity of the FFT traces\n",
    "# we sweep FFT traces from the min_current (min_cond), to max_current (max_cond)\n",
    "# of a single cell. This is to see if FFT is sensitive enough to capture the small variant of the current?\n",
    "\n",
    "\n",
    "from pandas import * # file io\n",
    "import math\n",
    "from matplotlib import pyplot as plt\n",
    "import csv\n",
    "\n",
    "TOP = 15\n",
    "\n",
    "files = [\"7R_FS_1p54n_FFT.csv\",\"7R_FS_1p72n_FFT.csv\",\"7R_FS_1p9n_FFT.csv\",\"7R_FS_2p09n_FFT.csv\",\n",
    "         \"7R_FS_2p27n_FFT.csv\",\"7R_FS_2p45n_FFT.csv\",\"7R_FS_2p63n_FFT.csv\",\"7R_FS_2p82n_FFT.csv\",\n",
    "         \"7R_FS_3n_FFT.csv\", \"7R_FS_3p18n_FFT.csv\",\n",
    "        \n",
    "        \"7R_FS_3p36n_FFT.csv\",\"7R_FS_3p54n_FFT.csv\",\"7R_FS_3p73n_FFT.csv\",\"7R_FS_3p91n_FFT.csv\",\n",
    "        \"7R_FS_4p09n_FFT.csv\",\"7R_FS_4p27n_FFT.csv\",\"7R_FS_4p46n_FFT.csv\",\"7R_FS_4p82n_FFT.csv\",\n",
    "        \"7R_FS_5n_FFT.csv\",\"7R_FS_5p19n_FFT.csv\",\n",
    "        \n",
    "        \"7R_FS_5p37n_FFT.csv\",\"7R_FS_5p55n_FFT.csv\",\"7R_FS_5p73n_FFT.csv\",\"7R_FS_5p92n_FFT.csv\",\n",
    "        \"7R_FS_6p1n_FFT.csv\",\"7R_FS_6p28n_FFT.csv\",\"7R_FS_6p46n_FFT.csv\",\"7R_FS_6p64n_FFT.csv\",\n",
    "        \"7R_FS_6p83n_FFT.csv\",\"7R_FS_7p01n_FFT.csv\",\n",
    "        \n",
    "        \"7R_FS_7p19n_FFT.csv\",\"7R_FS_7p38n_FFT.csv\",\"7R_FS_7p56n_FFT.csv\",\"7R_FS_7p74n_FFT.csv\",\n",
    "        \"7R_FS_7p92n_FFT.csv\",\"7R_FS_8p1n_FFT.csv\",\"7R_FS_8p29n_FFT.csv\",\"7R_FS_8p47n_FFT.csv\",\n",
    "        \"7R_FS_8p65n_FFT.csv\",\"7R_FS_8p83n_FFT.csv\",\n",
    "        \n",
    "        \"7R_FS_9p02n_FFT.csv\",\"7R_FS_9p2n_FFT.csv\",\"7R_FS_9p38n_FFT.csv\",\"7R_FS_9p56n_FFT.csv\",\n",
    "        \"7R_FS_9p75n_FFT.csv\",\"7R_FS_9p93n_FFT.csv\",\"7R_FS_10p1n_FFT.csv\",\"7R_FS_10p3n_FFT.csv\",\n",
    "        \"7R_FS_10p5n_FFT.csv\",\"7R_FS_10p7n_FFT.csv\",\n",
    "        \n",
    "        \"7R_FS_10p8n_FFT.csv\",\"7R_FS_11n_FFT.csv\",\"7R_FS_11p2n_FFT.csv\"]\n",
    "\n",
    "lib_freq_mag = [] # [[(freq_0, mag_0),(freq_1, mag_1),(),...], [file2_tuples], [file3_tuples], ...]\n",
    "for i in range(len(files)):\n",
    "    tup_lst = []\n",
    "    with open(\"min_step_sweep/\"+files[i], \"r\") as fft_file:\n",
    "        csv_reader = csv.reader(fft_file, delimiter=',')\n",
    "        next(csv_reader) # skip header row\n",
    "        for lines in csv_reader: \n",
    "            tup = (lines[0],math.sqrt(float(lines[1])**2 + float(lines[2])**2))\n",
    "            tup_lst.append(tup)\n",
    "    lib_freq_mag.append(tup_lst) # [(freq0, mag_0), (freq1, mag1),...]\n",
    "\n",
    "# sort by magnitude    \n",
    "for i in range(len(files)):\n",
    "    lib_freq_mag[i].sort(key = lambda x: x[1], reverse = True)\n",
    "\n",
    "# save to csv\n",
    "f = open(\"fft_sweep_freq.csv\", \"a\")\n",
    "#f.write(\"current,1st,2nd,3rd,4th,5th,6th,7th,8th,9th,10th\\n\")\n",
    "increment = 0.18\n",
    "start_cur = 1.54\n",
    "\n",
    "for i in range(len(files)):\n",
    "    line = str(start_cur)\n",
    "    for j in range(0, TOP):\n",
    "        line += ','\n",
    "        line += str(lib_freq_mag[i][j][0]) \n",
    "    f.write(line)\n",
    "    f.write('\\n')\n",
    "    line = ''\n",
    "    start_cur += increment\n",
    "f.close()\n",
    "    \n",
    "print(lib_freq_mag[0][:20])\n",
    "print(\" \")\n",
    "print(lib_freq_mag[52][:20])"
   ]
  },
  {
   "cell_type": "code",
   "execution_count": null,
   "metadata": {},
   "outputs": [],
   "source": []
  }
 ],
 "metadata": {
  "kernelspec": {
   "display_name": "Python 3",
   "language": "python",
   "name": "python3"
  },
  "language_info": {
   "codemirror_mode": {
    "name": "ipython",
    "version": 3
   },
   "file_extension": ".py",
   "mimetype": "text/x-python",
   "name": "python",
   "nbconvert_exporter": "python",
   "pygments_lexer": "ipython3",
   "version": "3.8.5"
  }
 },
 "nbformat": 4,
 "nbformat_minor": 4
}
