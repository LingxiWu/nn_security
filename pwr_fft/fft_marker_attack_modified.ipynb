{
 "cells": [
  {
   "cell_type": "code",
   "execution_count": 1,
   "metadata": {},
   "outputs": [
    {
     "name": "stdout",
     "output_type": "stream",
     "text": [
      "[(100000000, 0.0005019066830656965), (0, 0.0004991732660120787), (800000000, 0.00023471412720428195), (300000000, 0.00022124703080328897), (700000000, 0.00018742761770232594), (500000000, 0.0001707042032060858), (900000000, 0.00013480150067217864), (200000000, 0.00012681187832003595), (1600000000, 0.0001228335223463696), (3100000000, 0.00010963057445340283), (400000000, 0.00010955592361287192), (2600000000, 0.00010676655835241992), (4400000000, 0.0001042120162247777), (1100000000, 0.00010199072249556078), (2200000000, 0.00010043698773102762), (1300000000, 9.905205149156312e-05), (4500000000, 9.903535384968269e-05), (1200000000, 9.889990099937478e-05), (3000000000, 9.776628544631602e-05), (4200000000, 9.622644945842651e-05), (3600000000, 8.661825542393739e-05), (2400000000, 8.525722769898432e-05), (3200000000, 8.408495718698763e-05), (2000000000, 8.255626164614626e-05), (1400000000, 7.722673267823364e-05), (2300000000, 7.553270984664558e-05), (1800000000, 7.454932303240578e-05), (600000000, 7.437162163999704e-05), (2950000000, 7.428838534099298e-05), (6800000000, 7.30362417030325e-05)]\n",
      "[2, 8, 3.5, 4.5, 4, 7.5, 8.5]\n"
     ]
    }
   ],
   "source": [
    "from pandas import * # file io\n",
    "import math\n",
    "from matplotlib import pyplot as plt\n",
    "import csv\n",
    "\n",
    "NUM_CURRENT = 7\n",
    "\n",
    "# 1. \n",
    "# substitute 4.5's marker freq with 1.3 ghz instead of 1.2 ghz which is the same as 4uA\n",
    "marker_list = [[0.5, 333000000],\n",
    "              [1,534000000],\n",
    "              [1.5,610000000],\n",
    "              [2,800000000],\n",
    "              [2.5,834000000],\n",
    "              [3,1000000000],\n",
    "              [3.5,1100000000],\n",
    "              [4,1200000000],\n",
    "              [4.5,1300000000],\n",
    "              [5,2550000000],\n",
    "              [5.5,2700000000],\n",
    "              [6,2700000000],\n",
    "              [6.5,2810000000],\n",
    "              [7,2950000000],\n",
    "              [7.5,3000000000],\n",
    "              [8,3100000000],\n",
    "              [8.5,3200000000]]\n",
    "\n",
    "# 2.\n",
    "# victim_fft = \"7R_sweep_0p5/7R_FS_1u_4u_8u_FFT.csv\"\n",
    "# victim_fft = \"7R_sweep_0p5/7R_FS_1_8p5_3_6_2p5_7_4_COMBO_FFT.csv\"\n",
    "victim_fft = \"7R_sweep_0p5/7R_FS_2u_8u_4u_7u_6u_2u_2p2u_FFT.csv\"\n",
    "\n",
    "victim_tup_list = []\n",
    "with open(victim_fft, \"r\") as fft_file:\n",
    "    csv_reader = csv.reader(fft_file, delimiter=',')\n",
    "    next(csv_reader) # skip header row\n",
    "    for lines in csv_reader: \n",
    "        tup = (round(float(lines[0])),math.sqrt(float(lines[1])**2 + float(lines[2])**2))\n",
    "        victim_tup_list.append(tup)\n",
    "\n",
    "victim_tup_list.sort(key = lambda x: x[1], reverse = True)\n",
    "print(victim_tup_list[:30])\n",
    "\n",
    "# 3.\n",
    "rank_list = [] # [[freq0, rank0],[],[],...]\n",
    "for i in range(0, len(marker_list)):\n",
    "    for j in range(0, len(victim_tup_list)):\n",
    "        if marker_list[i][1] == victim_tup_list[j][0]:\n",
    "            tup = (marker_list[i][1],j)\n",
    "            rank_list.append(tup)\n",
    "\n",
    "# 4.  \n",
    "rank_list.sort(key = lambda x: x[1])\n",
    "# print(rank_list)\n",
    "\n",
    "# 5. \n",
    "current_list = []\n",
    "for i in range(0, NUM_CURRENT):\n",
    "    top_freq = rank_list[i][0]\n",
    "    for j in range(0, len(marker_list)):\n",
    "        if top_freq == marker_list[j][1]:\n",
    "            current_list.append(marker_list[j][0])\n",
    "print(current_list)"
   ]
  },
  {
   "cell_type": "code",
   "execution_count": null,
   "metadata": {},
   "outputs": [],
   "source": []
  }
 ],
 "metadata": {
  "kernelspec": {
   "display_name": "Python 3",
   "language": "python",
   "name": "python3"
  },
  "language_info": {
   "codemirror_mode": {
    "name": "ipython",
    "version": 3
   },
   "file_extension": ".py",
   "mimetype": "text/x-python",
   "name": "python",
   "nbconvert_exporter": "python",
   "pygments_lexer": "ipython3",
   "version": "3.8.5"
  }
 },
 "nbformat": 4,
 "nbformat_minor": 4
}
